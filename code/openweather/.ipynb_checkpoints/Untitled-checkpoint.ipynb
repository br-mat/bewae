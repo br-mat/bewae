{
 "cells": [
  {
   "cell_type": "code",
   "execution_count": null,
   "id": "62a1ced0",
   "metadata": {},
   "outputs": [],
   "source": [
    "# importing requests and json\n",
    "import requests, json\n",
    "# base URL\n",
    "BASE_URL = \"https://api.openweathermap.org/data/2.5/onecall?lat=47.07&lon=15.42&exclude=minutely&appid=b05760615139c231301ec828d011e7b1\"\n",
    "# City Name CITY = \"Hyderabad\"\n",
    "# API key API_KEY = \"Your API Key\"\n",
    "# upadting the URL\n",
    "URL = BASE_URL #+ \"q=\" + CITY + \"&appid=\" + API_KEY\n",
    "# HTTP request\n",
    "response = requests.get(URL)\n",
    "# checking the status code of the request\n",
    "if response.status_code == 200:\n",
    "   # getting data in the json format\n",
    "   data = response.json()\n",
    "   # getting the main dict block\n",
    "   #main = data['main']\n",
    "   # getting temperature\n",
    "   #temperature = main['temp']\n",
    "   # getting the humidity\n",
    "   #humidity = main['humidity']\n",
    "   # getting the pressure\n",
    "   #pressure = main['pressure']\n",
    "   # weather report\n",
    "   #report = data['weather']\n",
    "   #print(f\"{CITY:-^30}\")\n",
    "   #print(f\"Temperature: {temperature}\")\n",
    "   #print(f\"Humidity: {humidity}\")\n",
    "   #print(f\"Pressure: {pressure}\")\n",
    "   #print(f\"Weather Report: {report[0]['description']}\")\n",
    "   print(data['hourly'][0])\n",
    "else:\n",
    "   # showing the error message\n",
    "\n",
    "   print(\"Error in the HTTP request\")\n"
   ]
  },
  {
   "cell_type": "code",
   "execution_count": null,
   "id": "81756ae8",
   "metadata": {},
   "outputs": [],
   "source": []
  }
 ],
 "metadata": {
  "kernelspec": {
   "display_name": "TensorFlow-GPU-3",
   "language": "python",
   "name": "tf-gpu3"
  }
 },
 "nbformat": 4,
 "nbformat_minor": 5
}
