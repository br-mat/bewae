{
 "cells": [
  {
   "cell_type": "code",
   "execution_count": 1,
   "id": "aa148e50",
   "metadata": {},
   "outputs": [
    {
     "name": "stdout",
     "output_type": "stream",
     "text": [
      "{'lat': 47.07, 'lon': 15.42, 'timezone': 'Europe/Vienna', 'timezone_offset': 3600, 'current': {'dt': 1646649667, 'sunrise': 1646630854, 'sunset': 1646671890, 'temp': 275.88, 'feels_like': 272.83, 'pressure': 1019, 'humidity': 53, 'dew_point': 267.93, 'uvi': 2.67, 'clouds': 40, 'visibility': 10000, 'wind_speed': 3.13, 'wind_deg': 147, 'wind_gust': 5.81, 'weather': [{'id': 802, 'main': 'Clouds', 'description': 'scattered clouds', 'icon': '03d'}]}, 'hourly': [{'dt': 1646647200, 'temp': 275.96, 'feels_like': 275.96, 'pressure': 1019, 'humidity': 50, 'dew_point': 267.31, 'uvi': 2.42, 'clouds': 33, 'visibility': 10000, 'wind_speed': 0.93, 'wind_deg': 21, 'wind_gust': 2.39, 'weather': [{'id': 802, 'main': 'Clouds', 'description': 'scattered clouds', 'icon': '03d'}], 'pop': 0}, {'dt': 1646650800, 'temp': 275.88, 'feels_like': 275.88, 'pressure': 1019, 'humidity': 53, 'dew_point': 267.93, 'uvi': 2.67, 'clouds': 40, 'visibility': 10000, 'wind_speed': 0.96, 'wind_deg': 22, 'wind_gust': 2.96, 'weather': [{'id': 802, 'main': 'Clouds', 'description': 'scattered clouds', 'icon': '03d'}], 'pop': 0}, {'dt': 1646654400, 'temp': 276.34, 'feels_like': 276.34, 'pressure': 1019, 'humidity': 49, 'dew_point': 267.39, 'uvi': 2.42, 'clouds': 33, 'visibility': 10000, 'wind_speed': 1.09, 'wind_deg': 17, 'wind_gust': 3.35, 'weather': [{'id': 802, 'main': 'Clouds', 'description': 'scattered clouds', 'icon': '03d'}], 'pop': 0}, {'dt': 1646658000, 'temp': 276.95, 'feels_like': 275.16, 'pressure': 1019, 'humidity': 44, 'dew_point': 266.64, 'uvi': 1.88, 'clouds': 36, 'visibility': 10000, 'wind_speed': 1.96, 'wind_deg': 20, 'wind_gust': 4.07, 'weather': [{'id': 802, 'main': 'Clouds', 'description': 'scattered clouds', 'icon': '03d'}], 'pop': 0}, {'dt': 1646661600, 'temp': 277.39, 'feels_like': 274.63, 'pressure': 1019, 'humidity': 39, 'dew_point': 265.61, 'uvi': 1.1, 'clouds': 35, 'visibility': 10000, 'wind_speed': 3.15, 'wind_deg': 20, 'wind_gust': 4.69, 'weather': [{'id': 802, 'main': 'Clouds', 'description': 'scattered clouds', 'icon': '03d'}], 'pop': 0}, {'dt': 1646665200, 'temp': 277.26, 'feels_like': 273.75, 'pressure': 1019, 'humidity': 37, 'dew_point': 264.9, 'uvi': 0.46, 'clouds': 30, 'visibility': 10000, 'wind_speed': 4.28, 'wind_deg': 19, 'wind_gust': 5.69, 'weather': [{'id': 802, 'main': 'Clouds', 'description': 'scattered clouds', 'icon': '03d'}], 'pop': 0}, {'dt': 1646668800, 'temp': 276.13, 'feels_like': 272.34, 'pressure': 1020, 'humidity': 38, 'dew_point': 262.36, 'uvi': 0.11, 'clouds': 23, 'visibility': 10000, 'wind_speed': 4.31, 'wind_deg': 17, 'wind_gust': 7.74, 'weather': [{'id': 801, 'main': 'Clouds', 'description': 'few clouds', 'icon': '02d'}], 'pop': 0}, {'dt': 1646672400, 'temp': 274.46, 'feels_like': 270.49, 'pressure': 1022, 'humidity': 44, 'dew_point': 262.57, 'uvi': 0, 'clouds': 19, 'visibility': 10000, 'wind_speed': 3.98, 'wind_deg': 11, 'wind_gust': 8.75, 'weather': [{'id': 801, 'main': 'Clouds', 'description': 'few clouds', 'icon': '02n'}], 'pop': 0}, {'dt': 1646676000, 'temp': 273.68, 'feels_like': 269.93, 'pressure': 1022, 'humidity': 48, 'dew_point': 262.85, 'uvi': 0, 'clouds': 16, 'visibility': 10000, 'wind_speed': 3.44, 'wind_deg': 355, 'wind_gust': 8.02, 'weather': [{'id': 801, 'main': 'Clouds', 'description': 'few clouds', 'icon': '02n'}], 'pop': 0}, {'dt': 1646679600, 'temp': 273.22, 'feels_like': 269.95, 'pressure': 1023, 'humidity': 51, 'dew_point': 263.31, 'uvi': 0, 'clouds': 0, 'visibility': 10000, 'wind_speed': 2.76, 'wind_deg': 339, 'wind_gust': 7.25, 'weather': [{'id': 800, 'main': 'Clear', 'description': 'clear sky', 'icon': '01n'}], 'pop': 0}, {'dt': 1646683200, 'temp': 272.56, 'feels_like': 269.62, 'pressure': 1023, 'humidity': 55, 'dew_point': 263.6, 'uvi': 0, 'clouds': 0, 'visibility': 10000, 'wind_speed': 2.32, 'wind_deg': 329, 'wind_gust': 5.67, 'weather': [{'id': 800, 'main': 'Clear', 'description': 'clear sky', 'icon': '01n'}], 'pop': 0.02}, {'dt': 1646686800, 'temp': 272.01, 'feels_like': 269.18, 'pressure': 1024, 'humidity': 58, 'dew_point': 263.73, 'uvi': 0, 'clouds': 0, 'visibility': 10000, 'wind_speed': 2.15, 'wind_deg': 325, 'wind_gust': 4.39, 'weather': [{'id': 800, 'main': 'Clear', 'description': 'clear sky', 'icon': '01n'}], 'pop': 0.02}, {'dt': 1646690400, 'temp': 271.73, 'feels_like': 268.75, 'pressure': 1024, 'humidity': 60, 'dew_point': 263.98, 'uvi': 0, 'clouds': 1, 'visibility': 10000, 'wind_speed': 2.23, 'wind_deg': 323, 'wind_gust': 3.77, 'weather': [{'id': 800, 'main': 'Clear', 'description': 'clear sky', 'icon': '01n'}], 'pop': 0.02}, {'dt': 1646694000, 'temp': 271.53, 'feels_like': 268.4, 'pressure': 1024, 'humidity': 62, 'dew_point': 264.23, 'uvi': 0, 'clouds': 3, 'visibility': 10000, 'wind_speed': 2.33, 'wind_deg': 324, 'wind_gust': 4.49, 'weather': [{'id': 800, 'main': 'Clear', 'description': 'clear sky', 'icon': '01n'}], 'pop': 0.02}, {'dt': 1646697600, 'temp': 271.49, 'feels_like': 268.51, 'pressure': 1024, 'humidity': 63, 'dew_point': 264.52, 'uvi': 0, 'clouds': 4, 'visibility': 10000, 'wind_speed': 2.2, 'wind_deg': 322, 'wind_gust': 4.32, 'weather': [{'id': 800, 'main': 'Clear', 'description': 'clear sky', 'icon': '01n'}], 'pop': 0.03}, {'dt': 1646701200, 'temp': 271.4, 'feels_like': 268.39, 'pressure': 1024, 'humidity': 64, 'dew_point': 264.66, 'uvi': 0, 'clouds': 8, 'visibility': 10000, 'wind_speed': 2.21, 'wind_deg': 326, 'wind_gust': 4.02, 'weather': [{'id': 800, 'main': 'Clear', 'description': 'clear sky', 'icon': '01n'}], 'pop': 0.03}, {'dt': 1646704800, 'temp': 271.3, 'feels_like': 268.31, 'pressure': 1024, 'humidity': 65, 'dew_point': 264.68, 'uvi': 0, 'clouds': 8, 'visibility': 10000, 'wind_speed': 2.18, 'wind_deg': 326, 'wind_gust': 3.85, 'weather': [{'id': 800, 'main': 'Clear', 'description': 'clear sky', 'icon': '01n'}], 'pop': 0.01}, {'dt': 1646708400, 'temp': 271.22, 'feels_like': 268.32, 'pressure': 1024, 'humidity': 66, 'dew_point': 264.68, 'uvi': 0, 'clouds': 8, 'visibility': 10000, 'wind_speed': 2.1, 'wind_deg': 324, 'wind_gust': 3.56, 'weather': [{'id': 800, 'main': 'Clear', 'description': 'clear sky', 'icon': '01n'}], 'pop': 0}, {'dt': 1646712000, 'temp': 271.12, 'feels_like': 268.22, 'pressure': 1024, 'humidity': 66, 'dew_point': 264.62, 'uvi': 0, 'clouds': 8, 'visibility': 10000, 'wind_speed': 2.08, 'wind_deg': 320, 'wind_gust': 3.41, 'weather': [{'id': 800, 'main': 'Clear', 'description': 'clear sky', 'icon': '01n'}], 'pop': 0}, {'dt': 1646715600, 'temp': 271.03, 'feels_like': 268.09, 'pressure': 1024, 'humidity': 66, 'dew_point': 264.57, 'uvi': 0, 'clouds': 7, 'visibility': 10000, 'wind_speed': 2.1, 'wind_deg': 320, 'wind_gust': 3.57, 'weather': [{'id': 800, 'main': 'Clear', 'description': 'clear sky', 'icon': '01n'}], 'pop': 0}, {'dt': 1646719200, 'temp': 271.28, 'feels_like': 268.61, 'pressure': 1024, 'humidity': 65, 'dew_point': 264.61, 'uvi': 0.12, 'clouds': 7, 'visibility': 10000, 'wind_speed': 1.93, 'wind_deg': 322, 'wind_gust': 3.28, 'weather': [{'id': 800, 'main': 'Clear', 'description': 'clear sky', 'icon': '01d'}], 'pop': 0}, {'dt': 1646722800, 'temp': 273.18, 'feels_like': 270.88, 'pressure': 1024, 'humidity': 56, 'dew_point': 264.55, 'uvi': 0.48, 'clouds': 2, 'visibility': 10000, 'wind_speed': 1.88, 'wind_deg': 326, 'wind_gust': 3.1, 'weather': [{'id': 800, 'main': 'Clear', 'description': 'clear sky', 'icon': '01d'}], 'pop': 0}, {'dt': 1646726400, 'temp': 275.19, 'feels_like': 273.48, 'pressure': 1024, 'humidity': 48, 'dew_point': 264.45, 'uvi': 1.13, 'clouds': 2, 'visibility': 10000, 'wind_speed': 1.67, 'wind_deg': 341, 'wind_gust': 2.71, 'weather': [{'id': 800, 'main': 'Clear', 'description': 'clear sky', 'icon': '01d'}], 'pop': 0}, {'dt': 1646730000, 'temp': 276.82, 'feels_like': 275.37, 'pressure': 1024, 'humidity': 40, 'dew_point': 263.65, 'uvi': 1.9, 'clouds': 1, 'visibility': 10000, 'wind_speed': 1.66, 'wind_deg': 8, 'wind_gust': 3.09, 'weather': [{'id': 800, 'main': 'Clear', 'description': 'clear sky', 'icon': '01d'}], 'pop': 0}, {'dt': 1646733600, 'temp': 278.01, 'feels_like': 276.69, 'pressure': 1024, 'humidity': 34, 'dew_point': 262.77, 'uvi': 2.6, 'clouds': 1, 'visibility': 10000, 'wind_speed': 1.7, 'wind_deg': 23, 'wind_gust': 3.55, 'weather': [{'id': 800, 'main': 'Clear', 'description': 'clear sky', 'icon': '01d'}], 'pop': 0}, {'dt': 1646737200, 'temp': 279.14, 'feels_like': 278.33, 'pressure': 1023, 'humidity': 30, 'dew_point': 262.22, 'uvi': 2.87, 'clouds': 2, 'visibility': 10000, 'wind_speed': 1.42, 'wind_deg': 21, 'wind_gust': 3.47, 'weather': [{'id': 800, 'main': 'Clear', 'description': 'clear sky', 'icon': '01d'}], 'pop': 0}, {'dt': 1646740800, 'temp': 279.95, 'feels_like': 279.95, 'pressure': 1022, 'humidity': 28, 'dew_point': 261.91, 'uvi': 2.6, 'clouds': 2, 'visibility': 10000, 'wind_speed': 1.1, 'wind_deg': 14, 'wind_gust': 3.17, 'weather': [{'id': 800, 'main': 'Clear', 'description': 'clear sky', 'icon': '01d'}], 'pop': 0}, {'dt': 1646744400, 'temp': 280.49, 'feels_like': 280.49, 'pressure': 1021, 'humidity': 26, 'dew_point': 261.63, 'uvi': 1.98, 'clouds': 4, 'visibility': 10000, 'wind_speed': 0.91, 'wind_deg': 22, 'wind_gust': 2.89, 'weather': [{'id': 800, 'main': 'Clear', 'description': 'clear sky', 'icon': '01d'}], 'pop': 0}, {'dt': 1646748000, 'temp': 280.54, 'feels_like': 280.54, 'pressure': 1021, 'humidity': 26, 'dew_point': 261.42, 'uvi': 1.16, 'clouds': 3, 'visibility': 10000, 'wind_speed': 0.98, 'wind_deg': 51, 'wind_gust': 2.88, 'weather': [{'id': 800, 'main': 'Clear', 'description': 'clear sky', 'icon': '01d'}], 'pop': 0}, {'dt': 1646751600, 'temp': 280.12, 'feels_like': 280.12, 'pressure': 1021, 'humidity': 27, 'dew_point': 261.5, 'uvi': 0.49, 'clouds': 3, 'visibility': 10000, 'wind_speed': 1.07, 'wind_deg': 70, 'wind_gust': 2.83, 'weather': [{'id': 800, 'main': 'Clear', 'description': 'clear sky', 'icon': '01d'}], 'pop': 0}, {'dt': 1646755200, 'temp': 278.71, 'feels_like': 277.84, 'pressure': 1021, 'humidity': 34, 'dew_point': 263.33, 'uvi': 0.12, 'clouds': 3, 'visibility': 10000, 'wind_speed': 1.42, 'wind_deg': 99, 'wind_gust': 2.34, 'weather': [{'id': 800, 'main': 'Clear', 'description': 'clear sky', 'icon': '01d'}], 'pop': 0}, {'dt': 1646758800, 'temp': 275.91, 'feels_like': 275.91, 'pressure': 1022, 'humidity': 44, 'dew_point': 264.02, 'uvi': 0, 'clouds': 4, 'visibility': 10000, 'wind_speed': 1.16, 'wind_deg': 115, 'wind_gust': 2.95, 'weather': [{'id': 800, 'main': 'Clear', 'description': 'clear sky', 'icon': '01n'}], 'pop': 0}, {'dt': 1646762400, 'temp': 274.9, 'feels_like': 274.9, 'pressure': 1023, 'humidity': 50, 'dew_point': 264.62, 'uvi': 0, 'clouds': 12, 'visibility': 10000, 'wind_speed': 0.37, 'wind_deg': 143, 'wind_gust': 2.43, 'weather': [{'id': 801, 'main': 'Clouds', 'description': 'few clouds', 'icon': '02n'}], 'pop': 0}, {'dt': 1646766000, 'temp': 274.3, 'feels_like': 274.3, 'pressure': 1024, 'humidity': 53, 'dew_point': 264.98, 'uvi': 0, 'clouds': 15, 'visibility': 10000, 'wind_speed': 0.73, 'wind_deg': 273, 'wind_gust': 1.31, 'weather': [{'id': 801, 'main': 'Clouds', 'description': 'few clouds', 'icon': '02n'}], 'pop': 0}, {'dt': 1646769600, 'temp': 273.86, 'feels_like': 273.86, 'pressure': 1025, 'humidity': 55, 'dew_point': 265.06, 'uvi': 0, 'clouds': 13, 'visibility': 10000, 'wind_speed': 0.97, 'wind_deg': 295, 'wind_gust': 1.31, 'weather': [{'id': 801, 'main': 'Clouds', 'description': 'few clouds', 'icon': '02n'}], 'pop': 0}, {'dt': 1646773200, 'temp': 273.48, 'feels_like': 273.48, 'pressure': 1025, 'humidity': 57, 'dew_point': 265.02, 'uvi': 0, 'clouds': 18, 'visibility': 10000, 'wind_speed': 1.01, 'wind_deg': 316, 'wind_gust': 0.99, 'weather': [{'id': 801, 'main': 'Clouds', 'description': 'few clouds', 'icon': '02n'}], 'pop': 0}, {'dt': 1646776800, 'temp': 273.2, 'feels_like': 271.72, 'pressure': 1025, 'humidity': 58, 'dew_point': 265.1, 'uvi': 0, 'clouds': 23, 'visibility': 10000, 'wind_speed': 1.34, 'wind_deg': 306, 'wind_gust': 1.45, 'weather': [{'id': 801, 'main': 'Clouds', 'description': 'few clouds', 'icon': '02n'}], 'pop': 0}, {'dt': 1646780400, 'temp': 272.95, 'feels_like': 271.06, 'pressure': 1025, 'humidity': 59, 'dew_point': 265.07, 'uvi': 0, 'clouds': 21, 'visibility': 10000, 'wind_speed': 1.57, 'wind_deg': 307, 'wind_gust': 1.97, 'weather': [{'id': 801, 'main': 'Clouds', 'description': 'few clouds', 'icon': '02n'}], 'pop': 0}, {'dt': 1646784000, 'temp': 272.78, 'feels_like': 271.04, 'pressure': 1025, 'humidity': 60, 'dew_point': 265.05, 'uvi': 0, 'clouds': 24, 'visibility': 10000, 'wind_speed': 1.46, 'wind_deg': 319, 'wind_gust': 1.77, 'weather': [{'id': 801, 'main': 'Clouds', 'description': 'few clouds', 'icon': '02n'}], 'pop': 0}, {'dt': 1646787600, 'temp': 272.79, 'feels_like': 271.08, 'pressure': 1025, 'humidity': 59, 'dew_point': 264.95, 'uvi': 0, 'clouds': 95, 'visibility': 10000, 'wind_speed': 1.44, 'wind_deg': 324, 'wind_gust': 1.68, 'weather': [{'id': 804, 'main': 'Clouds', 'description': 'overcast clouds', 'icon': '04n'}], 'pop': 0}, {'dt': 1646791200, 'temp': 272.73, 'feels_like': 272.73, 'pressure': 1025, 'humidity': 59, 'dew_point': 264.82, 'uvi': 0, 'clouds': 97, 'visibility': 10000, 'wind_speed': 1.32, 'wind_deg': 330, 'wind_gust': 1.55, 'weather': [{'id': 804, 'main': 'Clouds', 'description': 'overcast clouds', 'icon': '04n'}], 'pop': 0}, {'dt': 1646794800, 'temp': 272.65, 'feels_like': 272.65, 'pressure': 1025, 'humidity': 57, 'dew_point': 264.53, 'uvi': 0, 'clouds': 96, 'visibility': 10000, 'wind_speed': 1.23, 'wind_deg': 333, 'wind_gust': 1.33, 'weather': [{'id': 804, 'main': 'Clouds', 'description': 'overcast clouds', 'icon': '04n'}], 'pop': 0}, {'dt': 1646798400, 'temp': 272.55, 'feels_like': 272.55, 'pressure': 1026, 'humidity': 57, 'dew_point': 264.3, 'uvi': 0, 'clouds': 95, 'visibility': 10000, 'wind_speed': 1.22, 'wind_deg': 328, 'wind_gust': 1.31, 'weather': [{'id': 804, 'main': 'Clouds', 'description': 'overcast clouds', 'icon': '04n'}], 'pop': 0}, {'dt': 1646802000, 'temp': 272.52, 'feels_like': 270.91, 'pressure': 1026, 'humidity': 56, 'dew_point': 264.08, 'uvi': 0, 'clouds': 94, 'visibility': 10000, 'wind_speed': 1.36, 'wind_deg': 316, 'wind_gust': 1.41, 'weather': [{'id': 804, 'main': 'Clouds', 'description': 'overcast clouds', 'icon': '04n'}], 'pop': 0}, {'dt': 1646805600, 'temp': 272.89, 'feels_like': 271.33, 'pressure': 1026, 'humidity': 54, 'dew_point': 263.91, 'uvi': 0.14, 'clouds': 89, 'visibility': 10000, 'wind_speed': 1.36, 'wind_deg': 312, 'wind_gust': 1.66, 'weather': [{'id': 804, 'main': 'Clouds', 'description': 'overcast clouds', 'icon': '04d'}], 'pop': 0}, {'dt': 1646809200, 'temp': 274.93, 'feels_like': 274.93, 'pressure': 1026, 'humidity': 46, 'dew_point': 263.69, 'uvi': 0.54, 'clouds': 62, 'visibility': 10000, 'wind_speed': 1.06, 'wind_deg': 322, 'wind_gust': 1.85, 'weather': [{'id': 803, 'main': 'Clouds', 'description': 'broken clouds', 'icon': '04d'}], 'pop': 0}, {'dt': 1646812800, 'temp': 277.22, 'feels_like': 277.22, 'pressure': 1026, 'humidity': 38, 'dew_point': 263.55, 'uvi': 1.26, 'clouds': 54, 'visibility': 10000, 'wind_speed': 0.81, 'wind_deg': 348, 'wind_gust': 1.64, 'weather': [{'id': 803, 'main': 'Clouds', 'description': 'broken clouds', 'icon': '04d'}], 'pop': 0}, {'dt': 1646816400, 'temp': 279.11, 'feels_like': 279.11, 'pressure': 1025, 'humidity': 35, 'dew_point': 264.11, 'uvi': 2.15, 'clouds': 41, 'visibility': 10000, 'wind_speed': 0.46, 'wind_deg': 34, 'wind_gust': 1.55, 'weather': [{'id': 802, 'main': 'Clouds', 'description': 'scattered clouds', 'icon': '03d'}], 'pop': 0}], 'daily': [{'dt': 1646650800, 'sunrise': 1646630854, 'sunset': 1646671890, 'moonrise': 1646638500, 'moonset': 1646691780, 'moon_phase': 0.16, 'temp': {'day': 275.88, 'min': 270.5, 'max': 277.39, 'night': 271.73, 'eve': 274.46, 'morn': 270.5}, 'feels_like': {'day': 275.88, 'night': 268.75, 'eve': 270.49, 'morn': 270.5}, 'pressure': 1019, 'humidity': 53, 'dew_point': 267.93, 'wind_speed': 4.31, 'wind_deg': 17, 'wind_gust': 8.75, 'weather': [{'id': 802, 'main': 'Clouds', 'description': 'scattered clouds', 'icon': '03d'}], 'clouds': 40, 'pop': 0.02, 'uvi': 2.67}, {'dt': 1646737200, 'sunrise': 1646717138, 'sunset': 1646758377, 'moonrise': 1646726280, 'moonset': 0, 'moon_phase': 0.19, 'temp': {'day': 279.14, 'min': 271.03, 'max': 280.54, 'night': 273.2, 'eve': 275.91, 'morn': 271.03}, 'feels_like': {'day': 278.33, 'night': 271.72, 'eve': 275.91, 'morn': 268.09}, 'pressure': 1023, 'humidity': 30, 'dew_point': 262.22, 'wind_speed': 2.33, 'wind_deg': 324, 'wind_gust': 4.49, 'weather': [{'id': 800, 'main': 'Clear', 'description': 'clear sky', 'icon': '01d'}], 'clouds': 2, 'pop': 0.03, 'uvi': 2.87}, {'dt': 1646823600, 'sunrise': 1646803421, 'sunset': 1646844863, 'moonrise': 1646814300, 'moonset': 1646782200, 'moon_phase': 0.22, 'temp': {'day': 281.75, 'min': 272.52, 'max': 283.09, 'night': 275.42, 'eve': 278.9, 'morn': 272.52}, 'feels_like': {'day': 281.75, 'night': 273.77, 'eve': 278.9, 'morn': 270.91}, 'pressure': 1025, 'humidity': 34, 'dew_point': 265.91, 'wind_speed': 1.68, 'wind_deg': 321, 'wind_gust': 2.84, 'weather': [{'id': 802, 'main': 'Clouds', 'description': 'scattered clouds', 'icon': '03d'}], 'clouds': 37, 'pop': 0, 'uvi': 3.11}, {'dt': 1646910000, 'sunrise': 1646889703, 'sunset': 1646931348, 'moonrise': 1646902680, 'moonset': 1646872560, 'moon_phase': 0.25, 'temp': {'day': 283.82, 'min': 274.13, 'max': 283.82, 'night': 276.17, 'eve': 278.33, 'morn': 274.21}, 'feels_like': {'day': 281.8, 'night': 276.17, 'eve': 276.92, 'morn': 272.84}, 'pressure': 1027, 'humidity': 33, 'dew_point': 267.48, 'wind_speed': 1.83, 'wind_deg': 145, 'wind_gust': 4.4, 'weather': [{'id': 800, 'main': 'Clear', 'description': 'clear sky', 'icon': '01d'}], 'clouds': 0, 'pop': 0, 'uvi': 2.91}, {'dt': 1646996400, 'sunrise': 1646975985, 'sunset': 1647017834, 'moonrise': 1646991480, 'moonset': 1646962620, 'moon_phase': 0.28, 'temp': {'day': 279.39, 'min': 273.01, 'max': 279.95, 'night': 274.56, 'eve': 276.86, 'morn': 273.01}, 'feels_like': {'day': 278.3, 'night': 272.87, 'eve': 274.86, 'morn': 273.01}, 'pressure': 1029, 'humidity': 53, 'dew_point': 269.82, 'wind_speed': 2.15, 'wind_deg': 124, 'wind_gust': 4.59, 'weather': [{'id': 803, 'main': 'Clouds', 'description': 'broken clouds', 'icon': '04d'}], 'clouds': 72, 'pop': 0, 'uvi': 2.49}, {'dt': 1647082800, 'sunrise': 1647062267, 'sunset': 1647104319, 'moonrise': 1647080940, 'moonset': 1647052320, 'moon_phase': 0.31, 'temp': {'day': 277.94, 'min': 271.35, 'max': 277.97, 'night': 272.28, 'eve': 273.79, 'morn': 271.35}, 'feels_like': {'day': 275.71, 'night': 272.28, 'eve': 271.71, 'morn': 271.35}, 'pressure': 1029, 'humidity': 24, 'dew_point': 258.49, 'wind_speed': 3.52, 'wind_deg': 140, 'wind_gust': 4.71, 'weather': [{'id': 800, 'main': 'Clear', 'description': 'clear sky', 'icon': '01d'}], 'clouds': 0, 'pop': 0, 'uvi': 3}, {'dt': 1647169200, 'sunrise': 1647148548, 'sunset': 1647190804, 'moonrise': 1647170880, 'moonset': 1647141420, 'moon_phase': 0.34, 'temp': {'day': 279.54, 'min': 271.02, 'max': 280.71, 'night': 274.69, 'eve': 276.3, 'morn': 271.92}, 'feels_like': {'day': 278.24, 'night': 274.69, 'eve': 276.3, 'morn': 271.92}, 'pressure': 1029, 'humidity': 37, 'dew_point': 265.14, 'wind_speed': 1.98, 'wind_deg': 123, 'wind_gust': 3.33, 'weather': [{'id': 802, 'main': 'Clouds', 'description': 'scattered clouds', 'icon': '03d'}], 'clouds': 33, 'pop': 0, 'uvi': 3}, {'dt': 1647255600, 'sunrise': 1647234829, 'sunset': 1647277289, 'moonrise': 1647261240, 'moonset': 1647230100, 'moon_phase': 0.37, 'temp': {'day': 282.75, 'min': 273.22, 'max': 283.22, 'night': 277.86, 'eve': 279.67, 'morn': 273.61}, 'feels_like': {'day': 282.16, 'night': 277.86, 'eve': 279.67, 'morn': 273.61}, 'pressure': 1031, 'humidity': 55, 'dew_point': 273.55, 'wind_speed': 1.68, 'wind_deg': 134, 'wind_gust': 2.57, 'weather': [{'id': 802, 'main': 'Clouds', 'description': 'scattered clouds', 'icon': '03d'}], 'clouds': 32, 'pop': 0, 'uvi': 3}]}\n"
     ]
    }
   ],
   "source": [
    "# importing requests and json\n",
    "import datetime\n",
    "from datetime import datetime\n",
    "import requests, json\n",
    "# base URL\n",
    "BASE_URL = \"https://api.openweathermap.org/data/2.5/onecall?lat=47.07&lon=15.42&exclude=minutely&appid=b05760615139c231301ec828d011e7b1\"\n",
    "# City Name CITY = \"Hyderabad\"\n",
    "# API key API_KEY = \"Your API Key\"\n",
    "# upadting the URL\n",
    "URL = BASE_URL #+ \"q=\" + CITY + \"&appid=\" + API_KEY\n",
    "# HTTP request\n",
    "response = requests.get(URL)\n",
    "# checking the status code of the request\n",
    "if response.status_code == 200:\n",
    "   # getting data in the json format\n",
    "   data = response.json()\n",
    "   # getting the main dict block\n",
    "   #main = data['main']\n",
    "   # getting temperature\n",
    "   #temperature = main['temp']\n",
    "   # getting the humidity\n",
    "   #humidity = main['humidity']\n",
    "   # getting the pressure\n",
    "   #pressure = main['pressure']\n",
    "   # weather report\n",
    "   #report = data['weather']\n",
    "   #print(f\"{CITY:-^30}\")\n",
    "   #print(f\"Temperature: {temperature}\")\n",
    "   #print(f\"Humidity: {humidity}\")\n",
    "   #print(f\"Pressure: {pressure}\")\n",
    "   #print(f\"Weather Report: {report[0]['description']}\")\n",
    "   print(data)\n",
    "else:\n",
    "   # showing the error message\n",
    "\n",
    "   print(\"Error in the HTTP request\")\n",
    "\n",
    "    #1638827637\n",
    "    #1638827721"
   ]
  },
  {
   "cell_type": "code",
   "execution_count": 2,
   "id": "cbbaf998",
   "metadata": {},
   "outputs": [
    {
     "name": "stdout",
     "output_type": "stream",
     "text": [
      "dict_keys(['lat', 'lon', 'timezone', 'timezone_offset', 'current', 'hourly', 'daily'])\n"
     ]
    }
   ],
   "source": [
    "print(data.keys())"
   ]
  },
  {
   "cell_type": "code",
   "execution_count": 3,
   "id": "327d7cf6",
   "metadata": {},
   "outputs": [
    {
     "name": "stdout",
     "output_type": "stream",
     "text": [
      "{'dt': 1646649667, 'sunrise': 1646630854, 'sunset': 1646671890, 'temp': 275.88, 'feels_like': 272.83, 'pressure': 1019, 'humidity': 53, 'dew_point': 267.93, 'uvi': 2.67, 'clouds': 40, 'visibility': 10000, 'wind_speed': 3.13, 'wind_deg': 147, 'wind_gust': 5.81, 'weather': [{'id': 802, 'main': 'Clouds', 'description': 'scattered clouds', 'icon': '03d'}]}\n"
     ]
    }
   ],
   "source": [
    "print(data['current'])"
   ]
  },
  {
   "cell_type": "code",
   "execution_count": 4,
   "id": "332a8d47",
   "metadata": {},
   "outputs": [
    {
     "name": "stdout",
     "output_type": "stream",
     "text": [
      "2022-03-07 17:51:30\n"
     ]
    }
   ],
   "source": [
    "print(datetime.fromtimestamp(int(data['current']['sunset'])).strftime('%Y-%m-%d %H:%M:%S'))"
   ]
  },
  {
   "cell_type": "code",
   "execution_count": 11,
   "id": "8eb95726",
   "metadata": {},
   "outputs": [
    {
     "name": "stdout",
     "output_type": "stream",
     "text": [
      "{'dt': 1646650800, 'sunrise': 1646630854, 'sunset': 1646671890, 'moonrise': 1646638500, 'moonset': 1646691780, 'moon_phase': 0.16, 'temp': {'day': 275.88, 'min': 270.5, 'max': 277.39, 'night': 271.73, 'eve': 274.46, 'morn': 270.5}, 'feels_like': {'day': 275.88, 'night': 268.75, 'eve': 270.49, 'morn': 270.5}, 'pressure': 1019, 'humidity': 53, 'dew_point': 267.93, 'wind_speed': 4.31, 'wind_deg': 17, 'wind_gust': 8.75, 'weather': [{'id': 802, 'main': 'Clouds', 'description': 'scattered clouds', 'icon': '03d'}], 'clouds': 40, 'pop': 0.02, 'uvi': 2.67}\n",
      "2022-03-08 12:00:00\n"
     ]
    }
   ],
   "source": [
    "print(data['daily'][0])\n",
    "print(datetime.fromtimestamp(int(data['daily'][1]['dt'])).strftime('%Y-%m-%d %H:%M:%S'))"
   ]
  },
  {
   "cell_type": "code",
   "execution_count": null,
   "id": "186afcd4",
   "metadata": {},
   "outputs": [],
   "source": []
  }
 ],
 "metadata": {
  "kernelspec": {
   "display_name": "Python 3",
   "language": "python",
   "name": "python3"
  },
  "language_info": {
   "codemirror_mode": {
    "name": "ipython",
    "version": 3
   },
   "file_extension": ".py",
   "mimetype": "text/x-python",
   "name": "python",
   "nbconvert_exporter": "python",
   "pygments_lexer": "ipython3",
   "version": "3.8.8"
  }
 },
 "nbformat": 4,
 "nbformat_minor": 5
}
