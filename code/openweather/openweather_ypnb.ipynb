{
 "cells": [
  {
   "cell_type": "code",
   "execution_count": 1,
   "id": "aa148e50",
   "metadata": {},
   "outputs": [
    {
     "name": "stdout",
     "output_type": "stream",
     "text": [
      "{'lat': 47.07, 'lon': 15.42, 'timezone': 'Europe/Vienna', 'timezone_offset': 3600, 'current': {'dt': 1639504523, 'sunrise': 1639463820, 'sunset': 1639494550, 'temp': 274.66, 'feels_like': 274.66, 'pressure': 1025, 'humidity': 69, 'dew_point': 270.01, 'uvi': 0, 'clouds': 20, 'visibility': 1100, 'wind_speed': 0.51, 'wind_deg': 0, 'weather': [{'id': 741, 'main': 'Fog', 'description': 'fog', 'icon': '50n'}]}, 'hourly': [{'dt': 1639501200, 'temp': 274.85, 'feels_like': 274.85, 'pressure': 1026, 'humidity': 75, 'dew_point': 271.16, 'uvi': 0, 'clouds': 36, 'visibility': 1629, 'wind_speed': 0.57, 'wind_deg': 309, 'wind_gust': 0.67, 'weather': [{'id': 802, 'main': 'Clouds', 'description': 'scattered clouds', 'icon': '03n'}], 'pop': 0}, {'dt': 1639504800, 'temp': 274.66, 'feels_like': 274.66, 'pressure': 1025, 'humidity': 69, 'dew_point': 270.01, 'uvi': 0, 'clouds': 20, 'visibility': 3721, 'wind_speed': 0.61, 'wind_deg': 317, 'wind_gust': 0.74, 'weather': [{'id': 801, 'main': 'Clouds', 'description': 'few clouds', 'icon': '02n'}], 'pop': 0}, {'dt': 1639508400, 'temp': 274.89, 'feels_like': 274.89, 'pressure': 1026, 'humidity': 75, 'dew_point': 271.2, 'uvi': 0, 'clouds': 36, 'visibility': 7681, 'wind_speed': 0.7, 'wind_deg': 298, 'wind_gust': 0.82, 'weather': [{'id': 802, 'main': 'Clouds', 'description': 'scattered clouds', 'icon': '03n'}], 'pop': 0}, {'dt': 1639512000, 'temp': 275.04, 'feels_like': 275.04, 'pressure': 1027, 'humidity': 81, 'dew_point': 272.25, 'uvi': 0, 'clouds': 52, 'visibility': 8231, 'wind_speed': 0.55, 'wind_deg': 295, 'wind_gust': 0.79, 'weather': [{'id': 803, 'main': 'Clouds', 'description': 'broken clouds', 'icon': '04n'}], 'pop': 0}, {'dt': 1639515600, 'temp': 275.12, 'feels_like': 275.12, 'pressure': 1028, 'humidity': 87, 'dew_point': 273.19, 'uvi': 0, 'clouds': 68, 'visibility': 10000, 'wind_speed': 0.86, 'wind_deg': 336, 'wind_gust': 0.86, 'weather': [{'id': 803, 'main': 'Clouds', 'description': 'broken clouds', 'icon': '04n'}], 'pop': 0}, {'dt': 1639519200, 'temp': 274.96, 'feels_like': 274.96, 'pressure': 1029, 'humidity': 92, 'dew_point': 273.8, 'uvi': 0, 'clouds': 83, 'visibility': 10000, 'wind_speed': 1.03, 'wind_deg': 328, 'wind_gust': 1.03, 'weather': [{'id': 803, 'main': 'Clouds', 'description': 'broken clouds', 'icon': '04n'}], 'pop': 0}, {'dt': 1639522800, 'temp': 274.53, 'feels_like': 274.53, 'pressure': 1030, 'humidity': 97, 'dew_point': 273.29, 'uvi': 0, 'clouds': 96, 'visibility': 10000, 'wind_speed': 1.12, 'wind_deg': 328, 'wind_gust': 1.09, 'weather': [{'id': 804, 'main': 'Clouds', 'description': 'overcast clouds', 'icon': '04n'}], 'pop': 0}, {'dt': 1639526400, 'temp': 274.32, 'feels_like': 274.32, 'pressure': 1030, 'humidity': 96, 'dew_point': 272.98, 'uvi': 0, 'clouds': 96, 'visibility': 10000, 'wind_speed': 1.33, 'wind_deg': 328, 'wind_gust': 1.3, 'weather': [{'id': 804, 'main': 'Clouds', 'description': 'overcast clouds', 'icon': '04n'}], 'pop': 0}, {'dt': 1639530000, 'temp': 273.99, 'feels_like': 273.99, 'pressure': 1031, 'humidity': 96, 'dew_point': 272.52, 'uvi': 0, 'clouds': 98, 'visibility': 10000, 'wind_speed': 1.33, 'wind_deg': 324, 'wind_gust': 1.26, 'weather': [{'id': 804, 'main': 'Clouds', 'description': 'overcast clouds', 'icon': '04n'}], 'pop': 0}, {'dt': 1639533600, 'temp': 273.73, 'feels_like': 273.73, 'pressure': 1031, 'humidity': 95, 'dew_point': 272.29, 'uvi': 0, 'clouds': 98, 'visibility': 10000, 'wind_speed': 1.25, 'wind_deg': 319, 'wind_gust': 1.2, 'weather': [{'id': 804, 'main': 'Clouds', 'description': 'overcast clouds', 'icon': '04n'}], 'pop': 0}, {'dt': 1639537200, 'temp': 273.85, 'feels_like': 273.85, 'pressure': 1031, 'humidity': 95, 'dew_point': 272.35, 'uvi': 0, 'clouds': 99, 'visibility': 10000, 'wind_speed': 1.31, 'wind_deg': 311, 'wind_gust': 1.28, 'weather': [{'id': 804, 'main': 'Clouds', 'description': 'overcast clouds', 'icon': '04n'}], 'pop': 0}, {'dt': 1639540800, 'temp': 274.11, 'feels_like': 274.11, 'pressure': 1031, 'humidity': 95, 'dew_point': 272.61, 'uvi': 0, 'clouds': 99, 'visibility': 10000, 'wind_speed': 1.25, 'wind_deg': 308, 'wind_gust': 1.25, 'weather': [{'id': 804, 'main': 'Clouds', 'description': 'overcast clouds', 'icon': '04n'}], 'pop': 0}, {'dt': 1639544400, 'temp': 274.15, 'feels_like': 274.15, 'pressure': 1031, 'humidity': 95, 'dew_point': 272.69, 'uvi': 0, 'clouds': 99, 'visibility': 10000, 'wind_speed': 1.08, 'wind_deg': 315, 'wind_gust': 1.12, 'weather': [{'id': 804, 'main': 'Clouds', 'description': 'overcast clouds', 'icon': '04n'}], 'pop': 0}, {'dt': 1639548000, 'temp': 274.15, 'feels_like': 274.15, 'pressure': 1032, 'humidity': 96, 'dew_point': 272.71, 'uvi': 0, 'clouds': 99, 'visibility': 10000, 'wind_speed': 1.05, 'wind_deg': 299, 'wind_gust': 1.09, 'weather': [{'id': 804, 'main': 'Clouds', 'description': 'overcast clouds', 'icon': '04n'}], 'pop': 0}, {'dt': 1639551600, 'temp': 274.77, 'feels_like': 274.77, 'pressure': 1032, 'humidity': 94, 'dew_point': 273.18, 'uvi': 0, 'clouds': 100, 'visibility': 10000, 'wind_speed': 0.78, 'wind_deg': 313, 'wind_gust': 0.95, 'weather': [{'id': 804, 'main': 'Clouds', 'description': 'overcast clouds', 'icon': '04d'}], 'pop': 0}, {'dt': 1639555200, 'temp': 275.7, 'feels_like': 275.7, 'pressure': 1033, 'humidity': 93, 'dew_point': 273.93, 'uvi': 0.04, 'clouds': 100, 'visibility': 10000, 'wind_speed': 0.53, 'wind_deg': 323, 'wind_gust': 0.75, 'weather': [{'id': 804, 'main': 'Clouds', 'description': 'overcast clouds', 'icon': '04d'}], 'pop': 0}, {'dt': 1639558800, 'temp': 276.08, 'feels_like': 276.08, 'pressure': 1033, 'humidity': 94, 'dew_point': 274.42, 'uvi': 0.1, 'clouds': 100, 'visibility': 10000, 'wind_speed': 0.51, 'wind_deg': 7, 'wind_gust': 0.78, 'weather': [{'id': 804, 'main': 'Clouds', 'description': 'overcast clouds', 'icon': '04d'}], 'pop': 0}, {'dt': 1639562400, 'temp': 276.24, 'feels_like': 276.24, 'pressure': 1033, 'humidity': 95, 'dew_point': 274.73, 'uvi': 0.13, 'clouds': 100, 'visibility': 10000, 'wind_speed': 0.59, 'wind_deg': 1, 'wind_gust': 0.79, 'weather': [{'id': 804, 'main': 'Clouds', 'description': 'overcast clouds', 'icon': '04d'}], 'pop': 0}, {'dt': 1639566000, 'temp': 276.39, 'feels_like': 276.39, 'pressure': 1033, 'humidity': 96, 'dew_point': 274.99, 'uvi': 0.15, 'clouds': 100, 'visibility': 10000, 'wind_speed': 0.52, 'wind_deg': 320, 'wind_gust': 0.66, 'weather': [{'id': 804, 'main': 'Clouds', 'description': 'overcast clouds', 'icon': '04d'}], 'pop': 0}, {'dt': 1639569600, 'temp': 276.66, 'feels_like': 276.66, 'pressure': 1033, 'humidity': 96, 'dew_point': 275.31, 'uvi': 0.13, 'clouds': 100, 'visibility': 10000, 'wind_speed': 0.91, 'wind_deg': 298, 'wind_gust': 1.15, 'weather': [{'id': 804, 'main': 'Clouds', 'description': 'overcast clouds', 'icon': '04d'}], 'pop': 0}, {'dt': 1639573200, 'temp': 276.93, 'feels_like': 276.93, 'pressure': 1033, 'humidity': 96, 'dew_point': 275.6, 'uvi': 0.13, 'clouds': 100, 'visibility': 10000, 'wind_speed': 1.27, 'wind_deg': 292, 'wind_gust': 1.86, 'weather': [{'id': 804, 'main': 'Clouds', 'description': 'overcast clouds', 'icon': '04d'}], 'pop': 0}, {'dt': 1639576800, 'temp': 276.99, 'feels_like': 276.99, 'pressure': 1032, 'humidity': 97, 'dew_point': 275.73, 'uvi': 0.06, 'clouds': 96, 'visibility': 10000, 'wind_speed': 1.24, 'wind_deg': 304, 'wind_gust': 1.45, 'weather': [{'id': 804, 'main': 'Clouds', 'description': 'overcast clouds', 'icon': '04d'}], 'pop': 0}, {'dt': 1639580400, 'temp': 276.05, 'feels_like': 274.91, 'pressure': 1032, 'humidity': 98, 'dew_point': 274.91, 'uvi': 0, 'clouds': 93, 'visibility': 10000, 'wind_speed': 1.36, 'wind_deg': 315, 'wind_gust': 1.46, 'weather': [{'id': 804, 'main': 'Clouds', 'description': 'overcast clouds', 'icon': '04d'}], 'pop': 0}, {'dt': 1639584000, 'temp': 275.41, 'feels_like': 274.22, 'pressure': 1033, 'humidity': 97, 'dew_point': 274.25, 'uvi': 0, 'clouds': 88, 'visibility': 10000, 'wind_speed': 1.34, 'wind_deg': 328, 'wind_gust': 1.47, 'weather': [{'id': 804, 'main': 'Clouds', 'description': 'overcast clouds', 'icon': '04n'}], 'pop': 0}, {'dt': 1639587600, 'temp': 275.08, 'feels_like': 273.58, 'pressure': 1033, 'humidity': 97, 'dew_point': 273.84, 'uvi': 0, 'clouds': 90, 'visibility': 10000, 'wind_speed': 1.51, 'wind_deg': 324, 'wind_gust': 1.53, 'weather': [{'id': 804, 'main': 'Clouds', 'description': 'overcast clouds', 'icon': '04n'}], 'pop': 0}, {'dt': 1639591200, 'temp': 274.84, 'feels_like': 273.29, 'pressure': 1034, 'humidity': 96, 'dew_point': 273.53, 'uvi': 0, 'clouds': 89, 'visibility': 10000, 'wind_speed': 1.52, 'wind_deg': 317, 'wind_gust': 1.64, 'weather': [{'id': 804, 'main': 'Clouds', 'description': 'overcast clouds', 'icon': '04n'}], 'pop': 0}, {'dt': 1639594800, 'temp': 274.43, 'feels_like': 274.43, 'pressure': 1034, 'humidity': 96, 'dew_point': 273.05, 'uvi': 0, 'clouds': 79, 'visibility': 10000, 'wind_speed': 1.27, 'wind_deg': 313, 'wind_gust': 1.32, 'weather': [{'id': 803, 'main': 'Clouds', 'description': 'broken clouds', 'icon': '04n'}], 'pop': 0}, {'dt': 1639598400, 'temp': 273.92, 'feels_like': 273.92, 'pressure': 1034, 'humidity': 95, 'dew_point': 272.44, 'uvi': 0, 'clouds': 71, 'visibility': 10000, 'wind_speed': 1.29, 'wind_deg': 320, 'wind_gust': 1.21, 'weather': [{'id': 803, 'main': 'Clouds', 'description': 'broken clouds', 'icon': '04n'}], 'pop': 0}, {'dt': 1639602000, 'temp': 273.71, 'feels_like': 272.24, 'pressure': 1035, 'humidity': 94, 'dew_point': 272.12, 'uvi': 0, 'clouds': 69, 'visibility': 10000, 'wind_speed': 1.37, 'wind_deg': 316, 'wind_gust': 1.26, 'weather': [{'id': 803, 'main': 'Clouds', 'description': 'broken clouds', 'icon': '04n'}], 'pop': 0}, {'dt': 1639605600, 'temp': 273.56, 'feels_like': 272.02, 'pressure': 1035, 'humidity': 94, 'dew_point': 271.88, 'uvi': 0, 'clouds': 61, 'visibility': 10000, 'wind_speed': 1.4, 'wind_deg': 312, 'wind_gust': 1.29, 'weather': [{'id': 803, 'main': 'Clouds', 'description': 'broken clouds', 'icon': '04n'}], 'pop': 0}, {'dt': 1639609200, 'temp': 273.44, 'feels_like': 271.73, 'pressure': 1035, 'humidity': 93, 'dew_point': 271.68, 'uvi': 0, 'clouds': 54, 'visibility': 10000, 'wind_speed': 1.5, 'wind_deg': 311, 'wind_gust': 1.32, 'weather': [{'id': 803, 'main': 'Clouds', 'description': 'broken clouds', 'icon': '04n'}], 'pop': 0}, {'dt': 1639612800, 'temp': 273.32, 'feels_like': 271.53, 'pressure': 1034, 'humidity': 93, 'dew_point': 271.48, 'uvi': 0, 'clouds': 53, 'visibility': 10000, 'wind_speed': 1.54, 'wind_deg': 311, 'wind_gust': 1.38, 'weather': [{'id': 803, 'main': 'Clouds', 'description': 'broken clouds', 'icon': '04n'}], 'pop': 0}, {'dt': 1639616400, 'temp': 273.21, 'feels_like': 271.43, 'pressure': 1034, 'humidity': 92, 'dew_point': 271.29, 'uvi': 0, 'clouds': 42, 'visibility': 10000, 'wind_speed': 1.52, 'wind_deg': 313, 'wind_gust': 1.33, 'weather': [{'id': 802, 'main': 'Clouds', 'description': 'scattered clouds', 'icon': '03n'}], 'pop': 0}, {'dt': 1639620000, 'temp': 273.08, 'feels_like': 271.33, 'pressure': 1034, 'humidity': 92, 'dew_point': 271.08, 'uvi': 0, 'clouds': 57, 'visibility': 10000, 'wind_speed': 1.49, 'wind_deg': 309, 'wind_gust': 1.33, 'weather': [{'id': 803, 'main': 'Clouds', 'description': 'broken clouds', 'icon': '04n'}], 'pop': 0}, {'dt': 1639623600, 'temp': 273.01, 'feels_like': 271.22, 'pressure': 1034, 'humidity': 91, 'dew_point': 270.94, 'uvi': 0, 'clouds': 60, 'visibility': 10000, 'wind_speed': 1.51, 'wind_deg': 318, 'wind_gust': 1.34, 'weather': [{'id': 803, 'main': 'Clouds', 'description': 'broken clouds', 'icon': '04n'}], 'pop': 0}, {'dt': 1639627200, 'temp': 272.93, 'feels_like': 271.28, 'pressure': 1034, 'humidity': 91, 'dew_point': 270.77, 'uvi': 0, 'clouds': 60, 'visibility': 10000, 'wind_speed': 1.42, 'wind_deg': 313, 'wind_gust': 1.28, 'weather': [{'id': 803, 'main': 'Clouds', 'description': 'broken clouds', 'icon': '04n'}], 'pop': 0}, {'dt': 1639630800, 'temp': 272.88, 'feels_like': 271.06, 'pressure': 1034, 'humidity': 90, 'dew_point': 270.65, 'uvi': 0, 'clouds': 53, 'visibility': 10000, 'wind_speed': 1.52, 'wind_deg': 313, 'wind_gust': 1.49, 'weather': [{'id': 803, 'main': 'Clouds', 'description': 'broken clouds', 'icon': '04n'}], 'pop': 0}, {'dt': 1639634400, 'temp': 272.87, 'feels_like': 271.06, 'pressure': 1034, 'humidity': 90, 'dew_point': 270.58, 'uvi': 0, 'clouds': 47, 'visibility': 10000, 'wind_speed': 1.51, 'wind_deg': 316, 'wind_gust': 1.56, 'weather': [{'id': 802, 'main': 'Clouds', 'description': 'scattered clouds', 'icon': '03n'}], 'pop': 0}, {'dt': 1639638000, 'temp': 272.95, 'feels_like': 271.25, 'pressure': 1034, 'humidity': 89, 'dew_point': 270.59, 'uvi': 0, 'clouds': 18, 'visibility': 10000, 'wind_speed': 1.45, 'wind_deg': 316, 'wind_gust': 1.61, 'weather': [{'id': 801, 'main': 'Clouds', 'description': 'few clouds', 'icon': '02d'}], 'pop': 0}, {'dt': 1639641600, 'temp': 274.63, 'feels_like': 273.14, 'pressure': 1034, 'humidity': 85, 'dew_point': 271.66, 'uvi': 0.17, 'clouds': 42, 'visibility': 10000, 'wind_speed': 1.46, 'wind_deg': 319, 'wind_gust': 1.83, 'weather': [{'id': 802, 'main': 'Clouds', 'description': 'scattered clouds', 'icon': '03d'}], 'pop': 0}, {'dt': 1639645200, 'temp': 276.36, 'feels_like': 276.36, 'pressure': 1034, 'humidity': 82, 'dew_point': 272.84, 'uvi': 0.4, 'clouds': 35, 'visibility': 10000, 'wind_speed': 1.16, 'wind_deg': 319, 'wind_gust': 1.85, 'weather': [{'id': 802, 'main': 'Clouds', 'description': 'scattered clouds', 'icon': '03d'}], 'pop': 0}, {'dt': 1639648800, 'temp': 277.6, 'feels_like': 277.6, 'pressure': 1033, 'humidity': 80, 'dew_point': 273.7, 'uvi': 0.56, 'clouds': 26, 'visibility': 10000, 'wind_speed': 1.03, 'wind_deg': 321, 'wind_gust': 1.79, 'weather': [{'id': 802, 'main': 'Clouds', 'description': 'scattered clouds', 'icon': '03d'}], 'pop': 0}, {'dt': 1639652400, 'temp': 278.44, 'feels_like': 278.44, 'pressure': 1033, 'humidity': 80, 'dew_point': 274.37, 'uvi': 0.63, 'clouds': 22, 'visibility': 10000, 'wind_speed': 1.01, 'wind_deg': 323, 'wind_gust': 1.91, 'weather': [{'id': 801, 'main': 'Clouds', 'description': 'few clouds', 'icon': '02d'}], 'pop': 0}, {'dt': 1639656000, 'temp': 278.82, 'feels_like': 278.82, 'pressure': 1033, 'humidity': 81, 'dew_point': 274.98, 'uvi': 0.56, 'clouds': 19, 'visibility': 10000, 'wind_speed': 1.07, 'wind_deg': 317, 'wind_gust': 2.03, 'weather': [{'id': 801, 'main': 'Clouds', 'description': 'few clouds', 'icon': '02d'}], 'pop': 0}, {'dt': 1639659600, 'temp': 278.63, 'feels_like': 278.63, 'pressure': 1032, 'humidity': 85, 'dew_point': 275.52, 'uvi': 0.36, 'clouds': 9, 'visibility': 10000, 'wind_speed': 1.17, 'wind_deg': 298, 'wind_gust': 2.13, 'weather': [{'id': 800, 'main': 'Clear', 'description': 'clear sky', 'icon': '01d'}], 'pop': 0}, {'dt': 1639663200, 'temp': 277.58, 'feels_like': 276.33, 'pressure': 1033, 'humidity': 91, 'dew_point': 275.45, 'uvi': 0.16, 'clouds': 10, 'visibility': 10000, 'wind_speed': 1.59, 'wind_deg': 297, 'wind_gust': 2.25, 'weather': [{'id': 800, 'main': 'Clear', 'description': 'clear sky', 'icon': '01d'}], 'pop': 0}, {'dt': 1639666800, 'temp': 275.93, 'feels_like': 274.06, 'pressure': 1033, 'humidity': 93, 'dew_point': 274.18, 'uvi': 0, 'clouds': 9, 'visibility': 10000, 'wind_speed': 1.89, 'wind_deg': 308, 'wind_gust': 2.4, 'weather': [{'id': 800, 'main': 'Clear', 'description': 'clear sky', 'icon': '01d'}], 'pop': 0}, {'dt': 1639670400, 'temp': 275.11, 'feels_like': 273.04, 'pressure': 1034, 'humidity': 93, 'dew_point': 273.3, 'uvi': 0, 'clouds': 10, 'visibility': 10000, 'wind_speed': 1.95, 'wind_deg': 311, 'wind_gust': 2.45, 'weather': [{'id': 800, 'main': 'Clear', 'description': 'clear sky', 'icon': '01n'}], 'pop': 0.03}], 'daily': [{'dt': 1639476000, 'sunrise': 1639463820, 'sunset': 1639494550, 'moonrise': 1639486020, 'moonset': 1639446120, 'moon_phase': 0.36, 'temp': {'day': 277.39, 'min': 273.68, 'max': 277.77, 'night': 274.96, 'eve': 275.02, 'morn': 273.98}, 'feels_like': {'day': 277.39, 'night': 274.96, 'eve': 275.02, 'morn': 273.98}, 'pressure': 1028, 'humidity': 96, 'dew_point': 275.97, 'wind_speed': 1.45, 'wind_deg': 319, 'wind_gust': 1.51, 'weather': [{'id': 803, 'main': 'Clouds', 'description': 'broken clouds', 'icon': '04d'}], 'clouds': 54, 'pop': 0.17, 'uvi': 0.62}, {'dt': 1639562400, 'sunrise': 1639550267, 'sunset': 1639580960, 'moonrise': 1639573560, 'moonset': 1639536480, 'moon_phase': 0.39, 'temp': {'day': 276.24, 'min': 273.56, 'max': 276.99, 'night': 273.56, 'eve': 275.41, 'morn': 274.11}, 'feels_like': {'day': 276.24, 'night': 272.02, 'eve': 274.22, 'morn': 274.11}, 'pressure': 1033, 'humidity': 95, 'dew_point': 274.73, 'wind_speed': 1.52, 'wind_deg': 317, 'wind_gust': 1.86, 'weather': [{'id': 804, 'main': 'Clouds', 'description': 'overcast clouds', 'icon': '04d'}], 'clouds': 100, 'pop': 0, 'uvi': 0.15}, {'dt': 1639648800, 'sunrise': 1639636711, 'sunset': 1639667372, 'moonrise': 1639661280, 'moonset': 1639626840, 'moon_phase': 0.42, 'temp': {'day': 277.6, 'min': 272.87, 'max': 278.82, 'night': 277.01, 'eve': 275.11, 'morn': 272.93}, 'feels_like': {'day': 277.6, 'night': 275.17, 'eve': 273.04, 'morn': 271.28}, 'pressure': 1033, 'humidity': 80, 'dew_point': 273.7, 'wind_speed': 2.33, 'wind_deg': 321, 'wind_gust': 3.93, 'weather': [{'id': 802, 'main': 'Clouds', 'description': 'scattered clouds', 'icon': '03d'}], 'clouds': 26, 'pop': 0.22, 'uvi': 0.63}, {'dt': 1639735200, 'sunrise': 1639723152, 'sunset': 1639753787, 'moonrise': 1639749300, 'moonset': 1639717200, 'moon_phase': 0.45, 'temp': {'day': 277.94, 'min': 274.09, 'max': 279.78, 'night': 274.33, 'eve': 276.65, 'morn': 274.62}, 'feels_like': {'day': 276.95, 'night': 272, 'eve': 274.74, 'morn': 272.15}, 'pressure': 1033, 'humidity': 80, 'dew_point': 274, 'wind_speed': 2.27, 'wind_deg': 314, 'wind_gust': 3.23, 'weather': [{'id': 804, 'main': 'Clouds', 'description': 'overcast clouds', 'icon': '04d'}], 'clouds': 88, 'pop': 0.09, 'uvi': 0.87}, {'dt': 1639821600, 'sunrise': 1639809591, 'sunset': 1639840205, 'moonrise': 1639837740, 'moonset': 1639807440, 'moon_phase': 0.48, 'temp': {'day': 277.6, 'min': 272.25, 'max': 279.22, 'night': 272.25, 'eve': 275.73, 'morn': 275.61}, 'feels_like': {'day': 274.83, 'night': 272.25, 'eve': 273.79, 'morn': 275.61}, 'pressure': 1032, 'humidity': 73, 'dew_point': 272.32, 'wind_speed': 3.43, 'wind_deg': 345, 'wind_gust': 9.8, 'weather': [{'id': 500, 'main': 'Rain', 'description': 'light rain', 'icon': '10d'}], 'clouds': 13, 'pop': 0.62, 'rain': 0.37, 'uvi': 0.66}, {'dt': 1639908000, 'sunrise': 1639896028, 'sunset': 1639926626, 'moonrise': 1639926600, 'moonset': 1639897440, 'moon_phase': 0.5, 'temp': {'day': 275.15, 'min': 271.82, 'max': 278.23, 'night': 274.05, 'eve': 275.62, 'morn': 271.82}, 'feels_like': {'day': 275.15, 'night': 271.68, 'eve': 275.62, 'morn': 271.82}, 'pressure': 1027, 'humidity': 63, 'dew_point': 268.07, 'wind_speed': 2.05, 'wind_deg': 317, 'wind_gust': 2.89, 'weather': [{'id': 802, 'main': 'Clouds', 'description': 'scattered clouds', 'icon': '03d'}], 'clouds': 38, 'pop': 0, 'uvi': 0.71}, {'dt': 1639994400, 'sunrise': 1639982462, 'sunset': 1640013049, 'moonrise': 1640016060, 'moonset': 1639987080, 'moon_phase': 0.54, 'temp': {'day': 275.36, 'min': 271.96, 'max': 277.1, 'night': 271.96, 'eve': 274.3, 'morn': 274.05}, 'feels_like': {'day': 275.36, 'night': 271.96, 'eve': 274.3, 'morn': 272.44}, 'pressure': 1026, 'humidity': 76, 'dew_point': 270.79, 'wind_speed': 1.77, 'wind_deg': 320, 'wind_gust': 2.59, 'weather': [{'id': 801, 'main': 'Clouds', 'description': 'few clouds', 'icon': '02d'}], 'clouds': 16, 'pop': 0.1, 'uvi': 1}, {'dt': 1640080800, 'sunrise': 1640068893, 'sunset': 1640099475, 'moonrise': 1640106000, 'moonset': 1640076240, 'moon_phase': 0.57, 'temp': {'day': 273.88, 'min': 271.13, 'max': 276.37, 'night': 271.75, 'eve': 273.41, 'morn': 271.31}, 'feels_like': {'day': 273.88, 'night': 269.97, 'eve': 273.41, 'morn': 271.31}, 'pressure': 1023, 'humidity': 60, 'dew_point': 266.17, 'wind_speed': 1.4, 'wind_deg': 316, 'wind_gust': 1.67, 'weather': [{'id': 800, 'main': 'Clear', 'description': 'clear sky', 'icon': '01d'}], 'clouds': 4, 'pop': 0, 'uvi': 1}]}\n"
     ]
    }
   ],
   "source": [
    "# importing requests and json\n",
    "import datetime\n",
    "from datetime import datetime\n",
    "import requests, json\n",
    "# base URL\n",
    "BASE_URL = \"https://api.openweathermap.org/data/2.5/onecall?lat=47.07&lon=15.42&exclude=minutely&appid=b05760615139c231301ec828d011e7b1\"\n",
    "# City Name CITY = \"Hyderabad\"\n",
    "# API key API_KEY = \"Your API Key\"\n",
    "# upadting the URL\n",
    "URL = BASE_URL #+ \"q=\" + CITY + \"&appid=\" + API_KEY\n",
    "# HTTP request\n",
    "response = requests.get(URL)\n",
    "# checking the status code of the request\n",
    "if response.status_code == 200:\n",
    "   # getting data in the json format\n",
    "   data = response.json()\n",
    "   # getting the main dict block\n",
    "   #main = data['main']\n",
    "   # getting temperature\n",
    "   #temperature = main['temp']\n",
    "   # getting the humidity\n",
    "   #humidity = main['humidity']\n",
    "   # getting the pressure\n",
    "   #pressure = main['pressure']\n",
    "   # weather report\n",
    "   #report = data['weather']\n",
    "   #print(f\"{CITY:-^30}\")\n",
    "   #print(f\"Temperature: {temperature}\")\n",
    "   #print(f\"Humidity: {humidity}\")\n",
    "   #print(f\"Pressure: {pressure}\")\n",
    "   #print(f\"Weather Report: {report[0]['description']}\")\n",
    "   print(data)\n",
    "else:\n",
    "   # showing the error message\n",
    "\n",
    "   print(\"Error in the HTTP request\")\n",
    "\n",
    "    #1638827637\n",
    "    #1638827721"
   ]
  },
  {
   "cell_type": "code",
   "execution_count": 2,
   "id": "cbbaf998",
   "metadata": {},
   "outputs": [
    {
     "name": "stdout",
     "output_type": "stream",
     "text": [
      "dict_keys(['lat', 'lon', 'timezone', 'timezone_offset', 'current', 'hourly', 'daily'])\n"
     ]
    }
   ],
   "source": [
    "print(data.keys())"
   ]
  },
  {
   "cell_type": "code",
   "execution_count": 3,
   "id": "327d7cf6",
   "metadata": {},
   "outputs": [
    {
     "name": "stdout",
     "output_type": "stream",
     "text": [
      "{'dt': 1639504523, 'sunrise': 1639463820, 'sunset': 1639494550, 'temp': 274.66, 'feels_like': 274.66, 'pressure': 1025, 'humidity': 69, 'dew_point': 270.01, 'uvi': 0, 'clouds': 20, 'visibility': 1100, 'wind_speed': 0.51, 'wind_deg': 0, 'weather': [{'id': 741, 'main': 'Fog', 'description': 'fog', 'icon': '50n'}]}\n"
     ]
    }
   ],
   "source": [
    "print(data['current'])"
   ]
  },
  {
   "cell_type": "code",
   "execution_count": 4,
   "id": "332a8d47",
   "metadata": {},
   "outputs": [
    {
     "name": "stdout",
     "output_type": "stream",
     "text": [
      "2021-12-14 16:09:10\n"
     ]
    }
   ],
   "source": [
    "print(datetime.fromtimestamp(int(data['current']['sunset'])).strftime('%Y-%m-%d %H:%M:%S'))"
   ]
  },
  {
   "cell_type": "code",
   "execution_count": null,
   "id": "8eb95726",
   "metadata": {},
   "outputs": [],
   "source": []
  }
 ],
 "metadata": {
  "kernelspec": {
   "display_name": "Python 3 (ipykernel)",
   "language": "python",
   "name": "python3"
  },
  "language_info": {
   "codemirror_mode": {
    "name": "ipython",
    "version": 3
   },
   "file_extension": ".py",
   "mimetype": "text/x-python",
   "name": "python",
   "nbconvert_exporter": "python",
   "pygments_lexer": "ipython3",
   "version": "3.7.11"
  }
 },
 "nbformat": 4,
 "nbformat_minor": 5
}
